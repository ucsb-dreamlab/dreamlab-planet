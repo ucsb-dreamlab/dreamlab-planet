{
 "cells": [
  {
   "cell_type": "markdown",
   "metadata": {},
   "source": [
    "# Ordering and Delivery\n",
    "\n",
    "This notebook demonstrates ordering and download with the orders api. In this notebook, we check authentication by requesting an orders list, then we create an order for two Analytic `PSScene4Band` images. We poll for order success then download images individually. And finally, we create, poll, and download the same order delivered as a single zip file.\n",
    "\n",
    "Reference information can be found at [Ordering & Delivery](https://developers.planet.com/docs/orders/ordering-delivery/)."
   ]
  },
  {
   "cell_type": "code",
   "execution_count": 1,
   "metadata": {},
   "outputs": [],
   "source": [
    "import json\n",
    "import os\n",
    "import pathlib\n",
    "import time\n",
    "\n",
    "import requests\n",
    "from requests.auth import HTTPBasicAuth"
   ]
  },
  {
   "cell_type": "markdown",
   "metadata": {},
   "source": [
    "## Authenticating"
   ]
  },
  {
   "cell_type": "code",
   "execution_count": 2,
   "metadata": {},
   "outputs": [],
   "source": [
    "# API Key \n",
    "PLANET_API_KEY = \"PLAKafb7581a5477426f8268729f7666e245\""
   ]
  },
  {
   "cell_type": "code",
   "execution_count": 3,
   "metadata": {},
   "outputs": [],
   "source": [
    "orders_url = 'https://api.planet.com/compute/ops/orders/v2'\n",
    "data_url = \"https://api.planet.com/data/v1\""
   ]
  },
  {
   "cell_type": "markdown",
   "metadata": {},
   "source": [
    "### Curl example\n",
    "\n",
    "To check your orders list and make sure you have the permissions you need, uncomment the following line to run `curl`"
   ]
  },
  {
   "cell_type": "code",
   "execution_count": 24,
   "metadata": {},
   "outputs": [
    {
     "name": "stdout",
     "output_type": "stream",
     "text": [
      "{\"_links\":{\"_self\":\"https://api.planet.com/compute/ops/orders/v2\",\"next\":\"https://api.planet.com/compute/ops/orders/v2?page_marker=2023-04-27T16%3A35%3A18.030652Z\"},\"orders\":[{\"_links\":{\"_self\":\"https://api.planet.com/compute/ops/orders/v2/bf7f0093-531e-4b2c-aecc-eee71081948b\"},\"created_on\":\"2023-05-12T20:32:20.160Z\",\"delivery\":{\"archive_filename\":\"{{name}}_psscene_analytic_8b_sr_udm2.zip\",\"archive_type\":\"zip\",\"single_archive\":true},\"error_hints\":[],\"id\":\"bf7f0093-531e-4b2c-aecc-eee71081948b\",\"last_message\":\"Manifest delivery completed\",\"last_modified\":\"2023-05-12T20:51:10.452Z\",\"name\":\"wuhan_cherry_download\",\"notifications\":{\"email\":true},\"order_type\":\"partial\",\"products\":[{\"item_ids\":[\"20230306_024457_47_227b\",\"20230306_024459_70_227b\",\"20230313_020018_16_242b\",\"20230314_024306_45_247f\",\"20230326_020302_22_2430\",\"20230326_020304_40_2430\",\"20230326_024105_59_249c\",\"20230401_020519_28_2465\",\"20230401_020521_48_2465\",\"20230407_021215_13_24b9\",\"20230407_024359_07_247a\"],\"item_type\":\"PSScene\",\"product_bundle\":\"analytic_8b_sr_udm2\"}],\"state\":\"success\",\"tools\":[{\"clip\":{\"aoi\":{\"coordinates\":[[[114.328871,30.527232],[114.37186,30.527232],[114.37186,30.5491],[114.328871,30.5491],[114.328871,30.527232]]],\"type\":\"Polygon\"}}}]},{\"_links\":{\"_self\":\"https://api.planet.com/compute/ops/orders/v2/f92d5978-9ba3-4df1-a5d0-998f1dfd2205\"},\"created_on\":\"2023-05-12T18:17:35.652Z\",\"delivery\":{\"archive_filename\":\"{{name}}_psscene_analytic_8b_udm2.zip\",\"archive_type\":\"zip\",\"single_archive\":true},\"error_hints\":[],\"id\":\"f92d5978-9ba3-4df1-a5d0-998f1dfd2205\",\"last_message\":\"Manifest delivery completed\",\"last_modified\":\"2023-05-12T18:31:12.095Z\",\"name\":\"cherries\",\"notifications\":{\"email\":true},\"order_type\":\"partial\",\"products\":[{\"item_ids\":[\"20230407_021215_13_24b9\",\"20230407_024359_07_247a\"],\"item_type\":\"PSScene\",\"product_bundle\":\"analytic_8b_udm2\"}],\"state\":\"success\",\"tools\":[{\"clip\":{\"aoi\":{\"coordinates\":[[[114.328871,30.527232],[114.37186,30.527232],[114.37186,30.5491],[114.328871,30.5491],[114.328871,30.527232]]],\"type\":\"Polygon\"}}}]},{\"_links\":{\"_self\":\"https://api.planet.com/compute/ops/orders/v2/86a65245-6ef0-4818-93a5-6727e89795cf\"},\"created_on\":\"2023-05-10T23:39:23.667Z\",\"delivery\":{\"google_cloud_storage\":{\"bucket\":\"planet-manila-api-live-orders-ingest\",\"credentials\":\"<REDACTED>\",\"path_prefix\":\"ingest/org-441225/user:34704/folder-7a13ca6c-de47-4b3b-bd68-7ab34a7dc198/\"}},\"error_hints\":[],\"id\":\"86a65245-6ef0-4818-93a5-6727e89795cf\",\"last_message\":\"Manifest delivery completed\",\"last_modified\":\"2023-05-10T23:55:12.441Z\",\"name\":\"folder/7a13ca6c-de47-4b3b-bd68-7ab34a7dc198/SuperBloom\",\"order_type\":\"partial\",\"products\":[{\"item_ids\":[\"20230318_182404_90_2416\",\"20230318_182407_11_2416\",\"20230321_182321_23_247d\",\"20230321_183719_13_2426\",\"20230321_183721_17_2426\",\"20230405_174549_66_2465\",\"20230405_174551_85_2465\",\"20230405_182401_64_2416\",\"20230405_182403_83_2416\",\"20230405_183445_51_2426\",\"20230405_183447_55_2426\",\"20230406_182007_45_2483\",\"20230406_182009_64_2483\",\"20230409_174921_74_24c8\",\"20230409_174924_06_24c8\",\"20230410_174312_99_242b\",\"20230410_174315_16_242b\",\"20230415_182209_80_2485\",\"20230415_182211_96_2485\",\"20230428_182132_86_2473\",\"20230428_182135_06_2473\",\"20230430_174853_42_2415\",\"20230430_174855_71_2415\",\"20230430_182058_77_2446\",\"20230430_182100_97_2446\"],\"item_type\":\"PSScene\",\"product_bundle\":\"analytic_sr_udm2\"}],\"state\":\"success\",\"tools\":[{\"clip\":{\"aoi\":{\"coordinates\":[[[-119.696508,35.060949],[-119.593917,35.060949],[-119.593917,35.12463],[-119.696508,35.12463],[-119.696508,35.060949]]],\"type\":\"Polygon\"}}},{\"reproject\":{\"kernel\":\"cubic\",\"projection\":\"EPSG:3857\",\"resolution\":0}},{\"file_format\":{\"format\":\"COG\",\"overview_levels\":\"2,4,8,16\"}}]},{\"_links\":{\"_self\":\"https://api.planet.com/compute/ops/orders/v2/982d6c50-e403-49be-9014-ed2b3f85762a\"},\"created_on\":\"2023-05-08T18:01:11.226Z\",\"delivery\":{\"google_cloud_storage\":{\"bucket\":\"planet-manila-api-live-orders-ingest\",\"credentials\":\"<REDACTED>\",\"path_prefix\":\"ingest/org-441225/user:34704/folder-90e9cdf7-b77e-4ffb-8fc8-f94075d39d68/\"}},\"error_hints\":[],\"id\":\"982d6c50-e403-49be-9014-ed2b3f85762a\",\"last_message\":\"Manifest delivery completed\",\"last_modified\":\"2023-05-08T18:54:35.016Z\",\"name\":\"folder/90e9cdf7-b77e-4ffb-8fc8-f94075d39d68/UCSBcampus\",\"order_type\":\"partial\",\"products\":[{\"item_ids\":[\"20210902_182530_ssc3_u0001\",\"20211001_182651_ssc4_u0001\",\"20220226_171839_ssc15_u0001\",\"20220310_182059_ssc4_u0001\",\"20220410_214702_ssc8_u0001\",\"20220504_214819_ssc11_u0001\",\"20220522_215831_ssc7_u0001\",\"20220607_214159_ssc10_u0001\",\"20220608_172911_ssc16_u0001\",\"20220624_013011_ssc18_u0001\",\"20220627_214052_ssc7_u0001\",\"20220721_215332_ssc7_u0001\",\"20220904_215112_ssc10_u0001\",\"20221017_215241_ssc10_u0001\",\"20221102_180945_ssc13_u0001\"],\"item_type\":\"SkySatCollect\",\"product_bundle\":\"pansharpened\"}],\"state\":\"success\",\"tools\":[{\"clip\":{\"aoi\":{\"coordinates\":[[[-119.910068,34.39907],[-119.811978,34.39907],[-119.811978,34.441142],[-119.910068,34.441142],[-119.910068,34.39907]]],\"type\":\"Polygon\"}}},{\"reproject\":{\"kernel\":\"cubic\",\"projection\":\"EPSG:3857\",\"resolution\":0}},{\"file_format\":{\"format\":\"COG\",\"overview_levels\":\"2,4,8,16\"}}]},{\"_links\":{\"_self\":\"https://api.planet.com/compute/ops/orders/v2/8c59e4b0-eff1-454b-9fc3-79276dc0abb8\"},\"created_on\":\"2023-05-03T19:28:47.066Z\",\"delivery\":{\"archive_filename\":\"{{name}}_psorthotile_analytic_5b_udm2.zip\",\"archive_type\":\"zip\",\"single_archive\":true},\"error_hints\":[],\"id\":\"8c59e4b0-eff1-454b-9fc3-79276dc0abb8\",\"last_message\":\"Manifest delivery completed\",\"last_modified\":\"2023-05-03T20:05:24.277Z\",\"name\":\"West Campus 3m winter\",\"notifications\":{\"email\":true},\"order_type\":\"partial\",\"products\":[{\"item_ids\":[\"6143936_1054927_2022-12-14_2459\",\"6143936_1154904_2022-12-14_2459\",\"6143936_1054926_2022-12-14_2459\",\"6143936_1154903_2022-12-14_2459\",\"6143691_1154904_2022-12-14_2429\",\"6143691_1154903_2022-12-14_2429\",\"6143691_1054927_2022-12-14_2429\",\"6143691_1054926_2022-12-14_2429\",\"6155184_1154904_2022-12-19_2455\",\"6155184_1154903_2022-12-19_2455\",\"6155184_1054927_2022-12-19_2455\",\"6155184_1054926_2022-12-19_2455\",\"6313655_1054926_2023-02-25_2495\",\"6313655_1154904_2023-02-25_2495\",\"6313655_1154903_2023-02-25_2495\",\"6313655_1054927_2023-02-25_2495\",\"6392779_1154903_2023-03-29_24c5\",\"6392779_1054926_2023-03-29_24c5\",\"6394411_1154904_2023-03-29_2461\",\"6394411_1054927_2023-03-29_2461\",\"6394411_1154903_2023-03-29_2461\",\"6394411_1054926_2023-03-29_2461\"],\"item_type\":\"PSOrthoTile\",\"product_bundle\":\"analytic_5b_udm2\"}],\"state\":\"success\",\"tools\":[{\"clip\":{\"aoi\":{\"coordinates\":[[[-119.892703,34.403777],[-119.848581,34.403777],[-119.848581,34.432773],[-119.892703,34.432773],[-119.892703,34.403777]]],\"type\":\"Polygon\"}}}]},{\"_links\":{\"_self\":\"https://api.planet.com/compute/ops/orders/v2/78365942-03b0-479b-8695-2b9a31a597ca\"},\"created_on\":\"2023-05-03T19:28:46.317Z\",\"delivery\":{\"archive_filename\":\"{{name}}_psscene_analytic_sr_udm2.zip\",\"archive_type\":\"zip\",\"single_archive\":true},\"error_hints\":[],\"id\":\"78365942-03b0-479b-8695-2b9a31a597ca\",\"last_message\":\"Manifest delivery completed\",\"last_modified\":\"2023-05-03T19:45:48.881Z\",\"name\":\"West Campus 3m winter\",\"notifications\":{\"email\":true},\"order_type\":\"partial\",\"products\":[{\"item_ids\":[\"20221120_181756_51_2486\",\"20221127_174235_45_2460\",\"20221127_183758_31_2405\",\"20221127_183800_54_2405\",\"20221207_174504_51_2432\",\"20221225_174729_67_241f\",\"20230103_182041_38_2475\",\"20230117_182840_43_2424\",\"20230126_174157_30_241a\",\"20230131_181937_40_2481\",\"20230131_182114_05_249d\",\"20230206_175003_47_24cf\",\"20230206_182302_81_2477\",\"20230206_182305_12_2477\",\"20230206_183218_85_2426\",\"20230214_181849_63_2473\",\"20230214_181851_92_2473\",\"20230223_174912_50_2415\",\"20230307_182005_03_2446\",\"20230423_174603_26_2439\",\"20230423_174605_40_2439\"],\"item_type\":\"PSScene\",\"product_bundle\":\"analytic_sr_udm2\"}],\"state\":\"success\",\"tools\":[{\"clip\":{\"aoi\":{\"coordinates\":[[[-119.892703,34.403777],[-119.848581,34.403777],[-119.848581,34.432773],[-119.892703,34.432773],[-119.892703,34.403777]]],\"type\":\"Polygon\"}}},{\"harmonize\":{\"target_sensor\":\"Sentinel-2\"}}]},{\"_links\":{\"_self\":\"https://api.planet.com/compute/ops/orders/v2/fceaea19-87e9-43b8-bba0-1522245b5006\"},\"created_on\":\"2023-05-03T19:22:26.963Z\",\"delivery\":{\"archive_filename\":\"{{name}}_skysatcollect_panchromatic_dn_udm2.zip\",\"archive_type\":\"zip\",\"single_archive\":true},\"error_hints\":[],\"id\":\"fceaea19-87e9-43b8-bba0-1522245b5006\",\"last_message\":\"Manifest delivery completed\",\"last_modified\":\"2023-05-03T19:58:18.531Z\",\"name\":\"WestCampus\",\"notifications\":{\"email\":true},\"order_type\":\"partial\",\"products\":[{\"item_ids\":[\"20161210_185631_ssc3_u0001\",\"20181115_183033_ssc3_u0001\",\"20181118_184429_ssc2_u0001\",\"20190630_184548_ssc2_u0003\",\"20191212_183345_ssc2_u0001\",\"20191212_212900_ssc10_u0001\",\"20210316_183543_ssc13_u0001\",\"20210408_213548_ssc9_u0001\",\"20211001_182651_ssc4_u0001\",\"20220226_171839_ssc15_u0001\",\"20220310_182059_ssc4_u0001\",\"20220627_214052_ssc7_u0001\",\"20220904_215112_ssc10_u0001\",\"20221017_215241_ssc10_u0001\",\"20221102_180945_ssc13_u0001\"],\"item_type\":\"SkySatCollect\",\"product_bundle\":\"panchromatic_dn_udm2\"}],\"state\":\"success\",\"tools\":[{\"clip\":{\"aoi\":{\"coordinates\":[[[-119.892703,34.403777],[-119.848581,34.403777],[-119.848581,34.432773],[-119.892703,34.432773],[-119.892703,34.403777]]],\"type\":\"Polygon\"}}}]},{\"_links\":{\"_self\":\"https://api.planet.com/compute/ops/orders/v2/072f4f3a-71f0-4b8f-b74e-5ce5f821329f\"},\"created_on\":\"2023-04-28T19:26:34.885Z\",\"delivery\":{\"archive_filename\":\"{{name}}_skysatcollect_analytic_sr_udm2.zip\",\"archive_type\":\"zip\",\"single_archive\":true},\"error_hints\":[],\"id\":\"072f4f3a-71f0-4b8f-b74e-5ce5f821329f\",\"last_message\":\"Manifest delivery completed\",\"last_modified\":\"2023-04-28T20:59:14.440Z\",\"name\":\"GreaterCampus2022\",\"notifications\":{\"email\":true},\"order_type\":\"partial\",\"products\":[{\"item_ids\":[\"20220522_215831_ssc7_u0001\",\"20220607_214159_ssc10_u0001\",\"20220608_172911_ssc16_u0001\",\"20220627_214052_ssc7_u0001\",\"20220627_215220_ssc11_u0002\",\"20220627_215220_ssc11_u0001\",\"20220721_215332_ssc7_u0002\",\"20220721_215332_ssc7_u0001\",\"20220826_215639_ssc8_u0001\",\"20220904_215112_ssc10_u0001\"],\"item_type\":\"SkySatCollect\",\"product_bundle\":\"analytic_sr_udm2\"}],\"state\":\"success\",\"tools\":[{\"clip\":{\"aoi\":{\"coordinates\":[[[-119.766656,34.471533],[-119.950749,34.471533],[-119.950371,34.424978],[-119.904867,34.386967],[-119.82009,34.387591],[-119.74683,34.385721],[-119.749474,34.471377],[-119.766656,34.471533]]],\"type\":\"Polygon\"}}}]},{\"_links\":{\"_self\":\"https://api.planet.com/compute/ops/orders/v2/604e0e04-1b6a-4e3d-b895-dca996610354\"},\"created_on\":\"2023-04-28T18:22:51.379Z\",\"delivery\":{\"archive_filename\":\"{{name}}_skysatcollect_analytic_sr_udm2.zip\",\"archive_type\":\"zip\",\"single_archive\":true},\"error_hints\":[],\"id\":\"604e0e04-1b6a-4e3d-b895-dca996610354\",\"last_message\":\"Manifest delivery completed\",\"last_modified\":\"2023-04-28T20:33:22.224Z\",\"name\":\"UCSBcampus2022a\",\"notifications\":{\"email\":true},\"order_type\":\"partial\",\"products\":[{\"item_ids\":[\"20220608_172911_ssc16_u0001\",\"20220627_214052_ssc7_u0001\",\"20220627_215220_ssc11_u0001\",\"20220721_215332_ssc7_u0002\",\"20220721_215332_ssc7_u0001\",\"20220826_215639_ssc8_u0001\",\"20220904_215112_ssc10_u0001\",\"20221017_215241_ssc10_u0001\"],\"item_type\":\"SkySatCollect\",\"product_bundle\":\"analytic_sr_udm2\"}],\"state\":\"success\",\"tools\":[{\"clip\":{\"aoi\":{\"coordinates\":[[[-119.777813,34.493399],[-119.777543,34.406552],[-119.827772,34.405661],[-119.826962,34.37424],[-119.934169,34.374463],[-119.997089,34.409226],[-119.995469,34.493621],[-119.777813,34.493399]]],\"type\":\"Polygon\"}}}]},{\"_links\":{\"_self\":\"https://api.planet.com/compute/ops/orders/v2/8a5859fa-baa8-49a3-b18b-8134d14deacd\"},\"created_on\":\"2023-04-28T17:48:09.498Z\",\"delivery\":{\"archive_filename\":\"{{name}}_skysatscene_pansharpened_udm2.zip\",\"archive_type\":\"zip\",\"single_archive\":true},\"error_hints\":[],\"id\":\"8a5859fa-baa8-49a3-b18b-8134d14deacd\",\"last_message\":\"Manifest delivery completed\",\"last_modified\":\"2023-04-28T17:55:14.871Z\",\"name\":\"UCSB2022\",\"notifications\":{\"email\":true},\"order_type\":\"partial\",\"products\":[{\"item_ids\":[\"20220625_180801_ssc12d3_0016\",\"20220625_180801_ssc12d3_0015\",\"20220625_180801_ssc12d2_0016\",\"20220625_180801_ssc12d2_0015\",\"20220625_180801_ssc12d2_0014\",\"20220625_180801_ssc12d2_0013\",\"20220625_180801_ssc12d2_0012\",\"20220625_180801_ssc12d2_0011\",\"20220625_180801_ssc12d2_0010\",\"20220625_180801_ssc12d1_0016\",\"20220625_180801_ssc12d1_0015\",\"20220625_180801_ssc12d1_0014\",\"20220625_180801_ssc12d1_0013\",\"20220625_180801_ssc12d1_0012\"],\"item_type\":\"SkySatScene\",\"product_bundle\":\"pansharpened_udm2\"}],\"state\":\"success\",\"tools\":[{\"clip\":{\"aoi\":{\"coordinates\":[[[-119.777813,34.493399],[-119.777543,34.406552],[-119.827772,34.405661],[-119.826962,34.37424],[-119.934169,34.374463],[-119.997089,34.409226],[-119.995469,34.493621],[-119.777813,34.493399]]],\"type\":\"Polygon\"}}}]},{\"_links\":{\"_self\":\"https://api.planet.com/compute/ops/orders/v2/fb0a9e4e-f5d5-4247-b67d-9385362d669f\"},\"created_on\":\"2023-04-28T17:48:08.827Z\",\"delivery\":{\"archive_filename\":\"{{name}}_skysatcollect_pansharpened_udm2.zip\",\"archive_type\":\"zip\",\"single_archive\":true},\"error_hints\":[],\"id\":\"fb0a9e4e-f5d5-4247-b67d-9385362d669f\",\"last_message\":\"Manifest delivery completed\",\"last_modified\":\"2023-04-28T18:48:35.482Z\",\"name\":\"UCSB2022\",\"notifications\":{\"email\":true},\"order_type\":\"partial\",\"products\":[{\"item_ids\":[\"20220522_215831_ssc7_u0001\",\"20220607_214159_ssc10_u0001\",\"20220608_172911_ssc16_u0001\",\"20220624_013011_ssc18_u0001\",\"20220627_214052_ssc7_u0001\",\"20220627_215220_ssc11_u0001\"],\"item_type\":\"SkySatCollect\",\"product_bundle\":\"pansharpened_udm2\"}],\"state\":\"success\",\"tools\":[{\"clip\":{\"aoi\":{\"coordinates\":[[[-119.777813,34.493399],[-119.777543,34.406552],[-119.827772,34.405661],[-119.826962,34.37424],[-119.934169,34.374463],[-119.997089,34.409226],[-119.995469,34.493621],[-119.777813,34.493399]]],\"type\":\"Polygon\"}}}]},{\"_links\":{\"_self\":\"https://api.planet.com/compute/ops/orders/v2/09bfe934-757f-48ab-a73b-820b9afd3d0b\"},\"created_on\":\"2023-04-28T17:28:23.543Z\",\"delivery\":{\"google_cloud_storage\":{\"bucket\":\"planet-manila-api-live-orders-ingest\",\"credentials\":\"<REDACTED>\",\"path_prefix\":\"ingest/org-441225/user:34704/folder-90e9cdf7-b77e-4ffb-8fc8-f94075d39d68/\"}},\"error_hints\":[],\"id\":\"09bfe934-757f-48ab-a73b-820b9afd3d0b\",\"last_message\":\"Manifest delivery completed\",\"last_modified\":\"2023-04-28T17:32:51.766Z\",\"name\":\"folder/90e9cdf7-b77e-4ffb-8fc8-f94075d39d68/UCSBcampus\",\"order_type\":\"partial\",\"products\":[{\"item_ids\":[\"20230423_174601_13_2439\",\"20230423_174603_26_2439\",\"20230423_174605_40_2439\",\"20230423_175153_88_242e\",\"20230423_175156_18_242e\"],\"item_type\":\"PSScene\",\"product_bundle\":\"analytic_sr_udm2\"}],\"state\":\"success\",\"tools\":[{\"clip\":{\"aoi\":{\"coordinates\":[[[-119.777577,34.493983],[-119.776708,34.406345],[-119.827804,34.406417],[-119.827356,34.37456],[-119.935056,34.373762],[-119.973191,34.395034],[-119.998009,34.410167],[-119.996452,34.493173],[-119.777577,34.493983]]],\"type\":\"Polygon\"}}},{\"reproject\":{\"kernel\":\"cubic\",\"projection\":\"EPSG:3857\",\"resolution\":0}},{\"file_format\":{\"format\":\"COG\",\"overview_levels\":\"2,4,8,16\"}}]},{\"_links\":{\"_self\":\"https://api.planet.com/compute/ops/orders/v2/5d33b2db-ff34-457f-8425-5e4ea61298e3\"},\"created_on\":\"2023-04-28T17:02:43.073Z\",\"delivery\":{\"google_cloud_storage\":{\"bucket\":\"planet-manila-api-live-orders-ingest\",\"credentials\":\"<REDACTED>\",\"path_prefix\":\"ingest/org-441225/user:34704/folder-90e9cdf7-b77e-4ffb-8fc8-f94075d39d68/\"}},\"error_hints\":[],\"id\":\"5d33b2db-ff34-457f-8425-5e4ea61298e3\",\"last_message\":\"Manifest delivery completed\",\"last_modified\":\"2023-04-28T17:07:36.371Z\",\"name\":\"folder/90e9cdf7-b77e-4ffb-8fc8-f94075d39d68/UCSBcampus\",\"order_type\":\"partial\",\"products\":[{\"item_ids\":[\"20230404_174858_47_2439\",\"20230404_174900_65_2439\",\"20230404_174902_83_2439\",\"20230404_181139_73_2262\",\"20230404_182218_05_2473\",\"20230404_182220_24_2473\"],\"item_type\":\"PSScene\",\"product_bundle\":\"analytic_sr_udm2\"}],\"state\":\"success\",\"tools\":[{\"clip\":{\"aoi\":{\"coordinates\":[[[-119.777577,34.493983],[-119.776708,34.406345],[-119.827804,34.406417],[-119.827356,34.37456],[-119.935056,34.373762],[-119.973191,34.395034],[-119.998009,34.410167],[-119.996452,34.493173],[-119.777577,34.493983]]],\"type\":\"Polygon\"}}},{\"reproject\":{\"kernel\":\"cubic\",\"projection\":\"EPSG:3857\",\"resolution\":0}},{\"file_format\":{\"format\":\"COG\",\"overview_levels\":\"2,4,8,16\"}}]},{\"_links\":{\"_self\":\"https://api.planet.com/compute/ops/orders/v2/976a833d-2cd9-4005-88ac-8ec31ec30135\"},\"created_on\":\"2023-04-28T00:05:59.390Z\",\"delivery\":{\"archive_filename\":\"{{name}}_psscene_analytic_sr_udm2.zip\",\"archive_type\":\"zip\",\"single_archive\":true},\"error_hints\":[],\"id\":\"976a833d-2cd9-4005-88ac-8ec31ec30135\",\"last_message\":\"Manifest delivery completed\",\"last_modified\":\"2023-04-28T00:22:32.434Z\",\"name\":\"campus3\",\"notifications\":{\"email\":true},\"order_type\":\"partial\",\"products\":[{\"item_ids\":[\"20230404_174858_47_2439\",\"20230404_174900_65_2439\",\"20230404_174902_83_2439\",\"20230404_181139_73_2262\",\"20230404_182218_05_2473\",\"20230404_182220_24_2473\"],\"item_type\":\"PSScene\",\"product_bundle\":\"analytic_sr_udm2\"}],\"state\":\"success\",\"tools\":[{\"clip\":{\"aoi\":{\"coordinates\":[[[-119.777577,34.493983],[-119.776708,34.406345],[-119.827804,34.406417],[-119.827356,34.37456],[-119.935056,34.373762],[-119.973191,34.395034],[-119.998009,34.410167],[-119.996452,34.493173],[-119.777577,34.493983]]],\"type\":\"Polygon\"}}},{\"composite\":{}}]},{\"_links\":{\"_self\":\"https://api.planet.com/compute/ops/orders/v2/17085b36-f1e7-434e-a3ec-23514cfbca78\"},\"created_on\":\"2023-04-28T00:04:27.555Z\",\"delivery\":{\"archive_filename\":\"{{name}}_psscene_analytic_sr_udm2.zip\",\"archive_type\":\"zip\",\"single_archive\":true},\"error_hints\":[],\"id\":\"17085b36-f1e7-434e-a3ec-23514cfbca78\",\"last_message\":\"Manifest delivery completed\",\"last_modified\":\"2023-04-28T00:21:10.330Z\",\"name\":\"campus2\",\"notifications\":{\"email\":true},\"order_type\":\"partial\",\"products\":[{\"item_ids\":[\"20230402_174839_12_24bc\",\"20230402_180954_14_2251\",\"20230423_174601_13_2439\",\"20230423_174603_26_2439\",\"20230423_174605_40_2439\",\"20230423_175153_88_242e\",\"20230423_175156_18_242e\"],\"item_type\":\"PSScene\",\"product_bundle\":\"analytic_sr_udm2\"}],\"state\":\"success\",\"tools\":[{\"clip\":{\"aoi\":{\"coordinates\":[[[-119.777577,34.493983],[-119.776708,34.406345],[-119.827804,34.406417],[-119.827356,34.37456],[-119.935056,34.373762],[-119.973191,34.395034],[-119.998009,34.410167],[-119.996452,34.493173],[-119.777577,34.493983]]],\"type\":\"Polygon\"}}},{\"composite\":{}}]},{\"_links\":{\"_self\":\"https://api.planet.com/compute/ops/orders/v2/dfccbdba-bd40-464c-9b20-f248a8a889ee\"},\"created_on\":\"2023-04-28T00:02:56.446Z\",\"delivery\":{\"archive_filename\":\"{{name}}_psscene_analytic_sr_udm2.zip\",\"archive_type\":\"zip\",\"single_archive\":true},\"error_hints\":[],\"id\":\"dfccbdba-bd40-464c-9b20-f248a8a889ee\",\"last_message\":\"Manifest delivery completed\",\"last_modified\":\"2023-04-28T00:21:59.381Z\",\"name\":\"campus 1\",\"notifications\":{\"email\":true},\"order_type\":\"partial\",\"products\":[{\"item_ids\":[\"20230423_174601_13_2439\",\"20230423_174603_26_2439\",\"20230423_174605_40_2439\",\"20230423_175153_88_242e\",\"20230423_175156_18_242e\"],\"item_type\":\"PSScene\",\"product_bundle\":\"analytic_sr_udm2\"}],\"state\":\"success\",\"tools\":[{\"clip\":{\"aoi\":{\"coordinates\":[[[-119.777577,34.493983],[-119.776708,34.406345],[-119.827804,34.406417],[-119.827356,34.37456],[-119.935056,34.373762],[-119.973191,34.395034],[-119.998009,34.410167],[-119.996452,34.493173],[-119.777577,34.493983]]],\"type\":\"Polygon\"}}},{\"composite\":{}}]},{\"_links\":{\"_self\":\"https://api.planet.com/compute/ops/orders/v2/239e781d-3453-4c64-b447-272f361028db\"},\"created_on\":\"2023-04-27T21:35:29.023Z\",\"delivery\":{\"archive_filename\":\"{{name}}_skysatscene_analytic_sr_udm2.zip\",\"archive_type\":\"zip\",\"single_archive\":true},\"error_hints\":[],\"id\":\"239e781d-3453-4c64-b447-272f361028db\",\"last_message\":\"Manifest delivery completed\",\"last_modified\":\"2023-04-27T21:52:39.605Z\",\"name\":\"carizzo\",\"notifications\":{\"email\":true},\"order_type\":\"partial\",\"products\":[{\"item_ids\":[\"20230401_175804_ssc4d3_0028\",\"20230401_175804_ssc4d3_0027\",\"20230401_175804_ssc4d3_0026\",\"20230401_175804_ssc4d3_0025\",\"20230401_175804_ssc4d3_0024\",\"20230401_175804_ssc4d3_0023\",\"20230401_175804_ssc4d3_0022\",\"20230401_175804_ssc4d3_0021\",\"20230401_175804_ssc4d3_0020\",\"20230401_175804_ssc4d3_0019\",\"20230401_175804_ssc4d3_0018\",\"20230401_175804_ssc4d3_0017\",\"20230401_175804_ssc4d3_0016\",\"20230401_175804_ssc4d3_0015\",\"20230401_175804_ssc4d3_0014\",\"20230401_175804_ssc4d3_0013\",\"20230401_175804_ssc4d3_0012\",\"20230401_175804_ssc4d3_0011\",\"20230401_175804_ssc4d3_0010\",\"20230401_175804_ssc4d3_0009\",\"20230401_175804_ssc4d3_0008\",\"20230401_175804_ssc4d3_0007\",\"20230401_175804_ssc4d3_0006\",\"20230401_175804_ssc4d2_0032\",\"20230401_175804_ssc4d2_0031\",\"20230401_175804_ssc4d2_0030\",\"20230401_175804_ssc4d2_0029\",\"20230401_175804_ssc4d2_0028\",\"20230401_175804_ssc4d2_0027\",\"20230401_175804_ssc4d2_0026\",\"20230401_175804_ssc4d2_0025\",\"20230401_175804_ssc4d2_0024\",\"20230401_175804_ssc4d2_0023\",\"20230401_175804_ssc4d2_0022\",\"20230401_175804_ssc4d2_0021\",\"20230401_175804_ssc4d2_0020\",\"20230401_175804_ssc4d2_0019\",\"20230401_175804_ssc4d2_0018\",\"20230401_175804_ssc4d2_0017\",\"20230401_175804_ssc4d2_0016\",\"20230401_175804_ssc4d2_0015\",\"20230401_175804_ssc4d2_0014\",\"20230401_175804_ssc4d2_0013\",\"20230401_175804_ssc4d2_0012\",\"20230401_175804_ssc4d2_0011\",\"20230401_175804_ssc4d2_0010\",\"20230401_175804_ssc4d1_0029\",\"20230401_175804_ssc4d1_0028\",\"20230401_175804_ssc4d1_0027\",\"20230401_175804_ssc4d1_0026\",\"20230401_175804_ssc4d1_0025\",\"20230401_175804_ssc4d1_0024\",\"20230401_175804_ssc4d1_0023\",\"20230401_175804_ssc4d1_0022\",\"20230401_175804_ssc4d1_0021\",\"20230401_175804_ssc4d1_0020\",\"20230401_175804_ssc4d1_0019\",\"20230401_175804_ssc4d1_0018\",\"20230401_175804_ssc4d1_0017\",\"20230401_175804_ssc4d1_0016\",\"20230401_175804_ssc4d1_0015\",\"20230401_175804_ssc4d1_0014\",\"20230401_175804_ssc4d1_0013\",\"20230401_175804_ssc4d1_0012\",\"20230401_175804_ssc4d1_0011\",\"20230401_175804_ssc4d1_0010\",\"20230401_175804_ssc4d1_0009\",\"20230401_175804_ssc4d1_0008\",\"20230401_175804_ssc4d1_0007\",\"20230401_175804_ssc4d1_0006\"],\"item_type\":\"SkySatScene\",\"product_bundle\":\"analytic_sr_udm2\"}],\"state\":\"success\",\"tools\":[{\"clip\":{\"aoi\":{\"coordinates\":[[[-119.805151,35.193999],[-119.860052,35.193667],[-119.85989,35.049921],[-119.805313,35.040165],[-119.80508,35.040165],[-119.805151,35.193999]]],\"type\":\"Polygon\"}}}]},{\"_links\":{\"_self\":\"https://api.planet.com/compute/ops/orders/v2/9888d118-3d30-4b13-84e5-dd2a1a0d6f9f\"},\"created_on\":\"2023-04-27T21:34:59.102Z\",\"delivery\":{\"archive_filename\":\"{{name}}_skysatscene_pansharpened_udm2.zip\",\"archive_type\":\"zip\",\"single_archive\":true},\"error_hints\":[],\"id\":\"9888d118-3d30-4b13-84e5-dd2a1a0d6f9f\",\"last_message\":\"Manifest delivery completed\",\"last_modified\":\"2023-04-27T21:44:28.729Z\",\"name\":\"carizzo\",\"notifications\":{\"email\":true},\"order_type\":\"partial\",\"products\":[{\"item_ids\":[\"20230401_175804_ssc4d3_0028\",\"20230401_175804_ssc4d3_0027\",\"20230401_175804_ssc4d3_0026\",\"20230401_175804_ssc4d3_0025\",\"20230401_175804_ssc4d3_0024\",\"20230401_175804_ssc4d3_0023\",\"20230401_175804_ssc4d3_0022\",\"20230401_175804_ssc4d3_0021\",\"20230401_175804_ssc4d3_0020\",\"20230401_175804_ssc4d3_0019\",\"20230401_175804_ssc4d3_0018\",\"20230401_175804_ssc4d3_0017\",\"20230401_175804_ssc4d3_0016\",\"20230401_175804_ssc4d3_0015\",\"20230401_175804_ssc4d3_0014\",\"20230401_175804_ssc4d3_0013\",\"20230401_175804_ssc4d3_0012\",\"20230401_175804_ssc4d3_0011\",\"20230401_175804_ssc4d3_0010\",\"20230401_175804_ssc4d3_0009\",\"20230401_175804_ssc4d3_0008\",\"20230401_175804_ssc4d3_0007\",\"20230401_175804_ssc4d3_0006\",\"20230401_175804_ssc4d2_0032\",\"20230401_175804_ssc4d2_0031\",\"20230401_175804_ssc4d2_0030\",\"20230401_175804_ssc4d2_0029\",\"20230401_175804_ssc4d2_0028\",\"20230401_175804_ssc4d2_0027\",\"20230401_175804_ssc4d2_0026\",\"20230401_175804_ssc4d2_0025\",\"20230401_175804_ssc4d2_0024\",\"20230401_175804_ssc4d2_0023\",\"20230401_175804_ssc4d2_0022\",\"20230401_175804_ssc4d2_0021\",\"20230401_175804_ssc4d2_0020\",\"20230401_175804_ssc4d2_0019\",\"20230401_175804_ssc4d2_0018\",\"20230401_175804_ssc4d2_0017\",\"20230401_175804_ssc4d2_0016\",\"20230401_175804_ssc4d2_0015\",\"20230401_175804_ssc4d2_0014\",\"20230401_175804_ssc4d2_0013\",\"20230401_175804_ssc4d2_0012\",\"20230401_175804_ssc4d2_0011\",\"20230401_175804_ssc4d2_0010\",\"20230401_175804_ssc4d1_0029\",\"20230401_175804_ssc4d1_0028\",\"20230401_175804_ssc4d1_0027\",\"20230401_175804_ssc4d1_0026\",\"20230401_175804_ssc4d1_0025\",\"20230401_175804_ssc4d1_0024\",\"20230401_175804_ssc4d1_0023\",\"20230401_175804_ssc4d1_0022\",\"20230401_175804_ssc4d1_0021\",\"20230401_175804_ssc4d1_0020\",\"20230401_175804_ssc4d1_0019\",\"20230401_175804_ssc4d1_0018\",\"20230401_175804_ssc4d1_0017\",\"20230401_175804_ssc4d1_0016\",\"20230401_175804_ssc4d1_0015\",\"20230401_175804_ssc4d1_0014\",\"20230401_175804_ssc4d1_0013\",\"20230401_175804_ssc4d1_0012\",\"20230401_175804_ssc4d1_0011\",\"20230401_175804_ssc4d1_0010\",\"20230401_175804_ssc4d1_0009\",\"20230401_175804_ssc4d1_0008\",\"20230401_175804_ssc4d1_0007\",\"20230401_175804_ssc4d1_0006\"],\"item_type\":\"SkySatScene\",\"product_bundle\":\"pansharpened_udm2\"}],\"state\":\"success\",\"tools\":[{\"clip\":{\"aoi\":{\"coordinates\":[[[-119.805151,35.193999],[-119.860052,35.193667],[-119.85989,35.049921],[-119.805313,35.040165],[-119.80508,35.040165],[-119.805151,35.193999]]],\"type\":\"Polygon\"}}}]},{\"_links\":{\"_self\":\"https://api.planet.com/compute/ops/orders/v2/1e593d1f-87c4-47ea-8cd3-c89cce7a8d97\"},\"created_on\":\"2023-04-27T16:35:18.993Z\",\"delivery\":{\"google_cloud_storage\":{\"bucket\":\"planet-manila-api-live-orders-ingest\",\"credentials\":\"<REDACTED>\",\"path_prefix\":\"ingest/org-441225/user:34704/folder-38398602-6ab7-47c8-9820-0ebd0cd33f71/\"}},\"error_hints\":[],\"id\":\"1e593d1f-87c4-47ea-8cd3-c89cce7a8d97\",\"last_message\":\"Manifest delivery completed\",\"last_modified\":\"2023-04-27T16:52:49.484Z\",\"name\":\"folder/38398602-6ab7-47c8-9820-0ebd0cd33f71/carrizo plain\",\"order_type\":\"partial\",\"products\":[{\"item_ids\":[\"20230401_175804_ssc4d3_0028\",\"20230401_175804_ssc4d3_0027\",\"20230401_175804_ssc4d3_0026\",\"20230401_175804_ssc4d3_0025\",\"20230401_175804_ssc4d3_0024\",\"20230401_175804_ssc4d3_0023\",\"20230401_175804_ssc4d3_0022\",\"20230401_175804_ssc4d3_0021\",\"20230401_175804_ssc4d3_0020\",\"20230401_175804_ssc4d3_0019\",\"20230401_175804_ssc4d3_0018\",\"20230401_175804_ssc4d3_0017\",\"20230401_175804_ssc4d3_0016\",\"20230401_175804_ssc4d3_0015\",\"20230401_175804_ssc4d3_0014\",\"20230401_175804_ssc4d3_0013\",\"20230401_175804_ssc4d3_0012\",\"20230401_175804_ssc4d3_0011\",\"20230401_175804_ssc4d3_0010\",\"20230401_175804_ssc4d3_0009\",\"20230401_175804_ssc4d3_0008\",\"20230401_175804_ssc4d3_0007\",\"20230401_175804_ssc4d3_0006\",\"20230401_175804_ssc4d2_0032\",\"20230401_175804_ssc4d2_0031\",\"20230401_175804_ssc4d2_0030\",\"20230401_175804_ssc4d2_0029\",\"20230401_175804_ssc4d2_0028\",\"20230401_175804_ssc4d2_0027\",\"20230401_175804_ssc4d2_0026\",\"20230401_175804_ssc4d2_0025\",\"20230401_175804_ssc4d2_0024\",\"20230401_175804_ssc4d2_0023\",\"20230401_175804_ssc4d2_0022\",\"20230401_175804_ssc4d2_0021\",\"20230401_175804_ssc4d2_0020\",\"20230401_175804_ssc4d2_0019\",\"20230401_175804_ssc4d2_0018\",\"20230401_175804_ssc4d2_0017\",\"20230401_175804_ssc4d2_0016\",\"20230401_175804_ssc4d2_0015\",\"20230401_175804_ssc4d2_0014\",\"20230401_175804_ssc4d2_0013\",\"20230401_175804_ssc4d2_0012\",\"20230401_175804_ssc4d2_0011\",\"20230401_175804_ssc4d2_0010\",\"20230401_175804_ssc4d1_0029\",\"20230401_175804_ssc4d1_0028\",\"20230401_175804_ssc4d1_0027\",\"20230401_175804_ssc4d1_0026\",\"20230401_175804_ssc4d1_0025\",\"20230401_175804_ssc4d1_0024\",\"20230401_175804_ssc4d1_0023\",\"20230401_175804_ssc4d1_0022\",\"20230401_175804_ssc4d1_0021\",\"20230401_175804_ssc4d1_0020\",\"20230401_175804_ssc4d1_0019\",\"20230401_175804_ssc4d1_0018\",\"20230401_175804_ssc4d1_0017\",\"20230401_175804_ssc4d1_0016\",\"20230401_175804_ssc4d1_0015\",\"20230401_175804_ssc4d1_0014\",\"20230401_175804_ssc4d1_0013\",\"20230401_175804_ssc4d1_0012\",\"20230401_175804_ssc4d1_0011\",\"20230401_175804_ssc4d1_0010\",\"20230401_175804_ssc4d1_0009\",\"20230401_175804_ssc4d1_0008\",\"20230401_175804_ssc4d1_0007\",\"20230401_175804_ssc4d1_0006\"],\"item_type\":\"SkySatScene\",\"product_bundle\":\"pansharpened\"}],\"state\":\"success\",\"tools\":[{\"clip\":{\"aoi\":{\"coordinates\":[[[-119.805151,35.193999],[-119.860052,35.193667],[-119.85989,35.049921],[-119.805313,35.040165],[-119.80508,35.040165],[-119.805151,35.193999]]],\"type\":\"Polygon\"}}},{\"reproject\":{\"kernel\":\"cubic\",\"projection\":\"EPSG:3857\",\"resolution\":0}},{\"file_format\":{\"format\":\"COG\",\"overview_levels\":\"2,4,8,16\"}}]},{\"_links\":{\"_self\":\"https://api.planet.com/compute/ops/orders/v2/da1a6f50-24f1-40af-a20d-e19cfa96e8ab\"},\"created_on\":\"2023-04-27T16:35:18.030Z\",\"delivery\":{\"google_cloud_storage\":{\"bucket\":\"planet-manila-api-live-orders-ingest\",\"credentials\":\"<REDACTED>\",\"path_prefix\":\"ingest/org-441225/user:34704/folder-38398602-6ab7-47c8-9820-0ebd0cd33f71/\"}},\"error_hints\":[],\"id\":\"da1a6f50-24f1-40af-a20d-e19cfa96e8ab\",\"last_message\":\"Manifest delivery completed\",\"last_modified\":\"2023-04-27T17:20:34.177Z\",\"name\":\"folder/38398602-6ab7-47c8-9820-0ebd0cd33f71/carrizo plain\",\"order_type\":\"partial\",\"products\":[{\"item_ids\":[\"20230401_175804_ssc4_u0002\",\"20230401_175804_ssc4_u0001\"],\"item_type\":\"SkySatCollect\",\"product_bundle\":\"pansharpened\"}],\"state\":\"success\",\"tools\":[{\"clip\":{\"aoi\":{\"coordinates\":[[[-119.805151,35.193999],[-119.860052,35.193667],[-119.85989,35.049921],[-119.805313,35.040165],[-119.80508,35.040165],[-119.805151,35.193999]]],\"type\":\"Polygon\"}}},{\"reproject\":{\"kernel\":\"cubic\",\"projection\":\"EPSG:3857\",\"resolution\":0}},{\"file_format\":{\"format\":\"COG\",\"overview_levels\":\"2,4,8,16\"}}]}]}\n"
     ]
    },
    {
     "name": "stderr",
     "output_type": "stream",
     "text": [
      "  % Total    % Received % Xferd  Average Speed   Time    Time     Time  Current\n",
      "                                 Dload  Upload   Total   Spent    Left  Speed\n",
      "\n",
      "  0     0    0     0    0     0      0      0 --:--:-- --:--:-- --:--:--     0\n",
      "100 29484    0 29484    0     0   202k      0 --:--:-- --:--:-- --:--:--  204k\n"
     ]
    }
   ],
   "source": [
    "!curl -L -H \"Authorization: api-key $PLANET_API_KEY\" $orders_url"
   ]
  },
  {
   "cell_type": "code",
   "execution_count": null,
   "metadata": {},
   "outputs": [],
   "source": []
  },
  {
   "cell_type": "code",
   "execution_count": 5,
   "metadata": {},
   "outputs": [
    {
     "data": {
      "text/plain": [
       "<Response [200]>"
      ]
     },
     "execution_count": 5,
     "metadata": {},
     "output_type": "execute_result"
    }
   ],
   "source": [
    "auth = HTTPBasicAuth(PLANET_API_KEY, '')\n",
    "response = requests.get(data_url, auth=auth)\n",
    "response"
   ]
  },
  {
   "cell_type": "markdown",
   "metadata": {},
   "source": [
    "## Searching with the Data API\n",
    "We can use the [data API](https://developers.planet.com/docs/apis/data/) in order to automate searching based on the search criterias like: date range, cloud cover, area cover, aoi."
   ]
  },
  {
   "cell_type": "code",
   "execution_count": 19,
   "metadata": {},
   "outputs": [],
   "source": [
    "geometry = {\n",
    "    \"type\":\"Polygon\",\n",
    " \"coordinates\": [\n",
    "          [\n",
    "            [\n",
    "              -119.49985069604644,\n",
    "              34.06751955054469\n",
    "            ],\n",
    "            [\n",
    "              -119.70691142646896,\n",
    "              34.093031758032936\n",
    "            ],\n",
    "            [\n",
    "              -120.00124568789624,\n",
    "              34.11074404638616\n",
    "            ],\n",
    "            [\n",
    "              -119.95589767668835,\n",
    "              34.02781862205468\n",
    "            ],\n",
    "            [\n",
    "              -119.89685969983209,\n",
    "              33.936294004915155\n",
    "            ],\n",
    "            [\n",
    "              -119.71375640929314,\n",
    "              33.92067532189574\n",
    "            ],\n",
    "            [\n",
    "              -119.51781877595889,\n",
    "              33.96823238877933\n",
    "            ],\n",
    "            [\n",
    "              -119.49985069604644,\n",
    "              34.06751955054469\n",
    "            ]\n",
    "          ]\n",
    "        ], \"type\":\"Polygon\"\n",
    "}"
   ]
  },
  {
   "cell_type": "code",
   "execution_count": 20,
   "metadata": {},
   "outputs": [],
   "source": [
    "# get images that overlap with our AOI \n",
    "geometry_filter = {\n",
    "  \"type\": \"GeometryFilter\",\n",
    "  \"field_name\": \"geometry\",\n",
    "  \"config\": geometry\n",
    "}\n",
    "\n",
    "# get images acquired within a date range\n",
    "date_range_filter = {\n",
    "  \"type\": \"DateRangeFilter\",\n",
    "  \"field_name\": \"acquired\",\n",
    "  \"config\": {\n",
    "    \"gte\":\"2019-01-01T00:00:00Z\",\n",
    "    \"lte\":\"2023-01-01T00:00:00Z\"\n",
    "  }\n",
    "}\n",
    "\n",
    "# only get images which have <50% cloud coverage\n",
    "cloud_cover_filter = {\n",
    "  \"type\": \"RangeFilter\",\n",
    "  \"field_name\": \"cloud_cover\",\n",
    "  \"config\": {\n",
    "    \"gte\": 0.5\n",
    "  }\n",
    "}\n",
    "\n",
    "# combine our geo, date, cloud filters\n",
    "combined_filter = {\n",
    "  \"type\": \"AndFilter\",\n",
    "  \"config\": [geometry_filter, date_range_filter, cloud_cover_filter]\n",
    "}"
   ]
  },
  {
   "cell_type": "code",
   "execution_count": 21,
   "metadata": {
    "scrolled": true
   },
   "outputs": [
    {
     "name": "stdout",
     "output_type": "stream",
     "text": [
      "['20220505_174922_45_220b', '20220131_182203_54_249e', '20220131_182205_86_249e', '20200909_175424_17_220b', '20200901_180203_49_2263', '20200810_175745_22_2278', '20200727_175443_72_2235', '20200729_175331_95_2212', '20200625_175459_75_2271', '20200602_175545_34_2304', '20200531_175540_68_2259', '20220714_183127_22_227b', '20220714_183129_50_227b', '20220714_183124_94_227b', '20220602_174621_05_2449', '20220602_174618_78_2449', '20220602_174616_51_2449', '20220327_175149_10_220b', '20221230_173642_59_2445', '20221230_173640_20_2445', '20221230_173637_81_2445', '20221229_173734_32_2460', '20221229_173732_00_2460', '20221229_173729_68_2460', '20221229_181711_77_248b', '20221229_181709_44_248b', '20221229_181707_12_248b', '20221229_182003_63_249c', '20221229_182001_36_249c', '20221227_181613_31_2483', '20221227_181610_97_2483', '20221227_181608_64_2483', '20221223_173759_35_2445', '20221222_181943_90_2478', '20221222_181941_57_2478', '20221222_173958_78_2442', '20221222_173956_46_2442', '20221222_173954_15_2442', '20201208_184847_82_240a', '20201021_184730_51_2274', '20201118_184633_59_2407', '20201118_184629_03_2407', '20201210_184855_99_2412', '20201107_184514_53_2419', '20201009_175701_26_2233', '20201009_175656_56_2233', '20221216_174230_67_2447', '20221215_183526_37_2414', '20221215_183524_15_2414', '20221215_183521_93_2414', '20221215_182009_02_2438', '20210129_180353_69_2280', '20221212_174118_98_2449', '20210628_175346_11_2448', '20210516_175619_73_241d', '20210422_175613_46_245f', '20210413_180611_28_2264', '20210601_184341_03_2405', '20210604_175514_58_2457', '20210424_184300_40_240c', '20221210_174451_29_2453', '20221210_174448_96_2453', '20221210_174446_63_2453', '20210411_175939_37_2262', '20210621_184325_85_2405', '20210423_175351_78_2458', '20210527_175349_34_2432', '20210517_175434_16_245a', '20210424_180312_80_2259', '20210604_175521_69_2421', '20210621_175355_13_2435', '20221206_174425_12_2465', '20221206_174422_80_2465', '20221206_174017_53_2442', '20221206_174015_21_2442', '20210726_175111_55_242b', '20210817_175209_63_2436', '20210817_175207_15_2436', '20210916_174902_97_2445', '20210916_174900_49_2445', '20210828_183751_11_2416', '20210714_175117_02_245c', '20210902_180451_63_2262', '20210818_180845_54_2231', '20221204_181741_62_2495', '20221204_181746_32_2495', '20221204_181743_97_2495', '20210821_175645_62_2453', '20210901_175246_82_2449', '20210901_175244_51_2449', '20210901_175242_21_2449', '20210829_175257_07_2429', '20210901_180551_56_227e', '20210901_180549_27_227e', '20210911_175713_17_222b', '20210828_175104_23_2427', '20210715_175654_55_2428', '20210701_175300_48_2430', '20210701_175258_18_2430', '20210821_180024_83_2262', '20221203_181843_03_2481', '20221203_181840_69_2481', '20221203_174006_37_2463', '20221203_174004_05_2463', '20210818_174929_84_2428', '20210818_174927_36_2428', '20210908_175108_06_2435', '20210822_174935_09_241b', '20210821_175022_16_241f', '20210718_175102_32_2450', '20210811_175345_09_2434', '20210821_184041_32_2274', '20221202_183008_15_227c', '20221202_183005_80_227c', '20221202_183003_45_227c', '20221202_181908_59_2473', '20221202_181906_24_2473', '20221202_181903_90_2473', '20221202_174846_90_2458', '20221202_174844_57_2458', '20221202_174842_24_2458', '20210810_184139_65_2419', '20210712_175431_55_2223', '20221201_182225_62_249c', '20221201_182223_33_249c', '20210727_180432_32_2262', '20210727_180430_02_2262', '20221201_181731_29_247a', '20210714_175524_01_2439', '20210810_175344_80_245f', '20210820_175307_75_242b', '20210730_175502_94_241e', '20210809_175331_77_242d', '20210730_184047_31_2424', '20221130_182127_87_247d', '20221130_182125_52_247d', '20221130_182123_17_247d', '20221130_174906_73_242d', '20221130_174904_39_242d', '20221130_174138_86_2464', '20221130_174136_54_2464', '20221130_174227_68_2447', '20221130_174225_36_2447', '20221130_174223_05_2447', '20221128_181737_64_2479', '20221128_181735_29_2479', '20221121_182022_29_24a3', '20221121_182019_95_24a3', '20221108_181856_38_249c', '20221108_181854_04_249c', '20221108_182731_80_227b', '20221108_182729_46_227b', '20221108_174058_14_2436', '20221108_174055_80_2436', '20221108_180306_98_2276', '20221108_180304_75_2276', '20221108_174251_67_2448', '20221107_181723_80_247d', '20221107_181721_45_247d', '20221107_174325_97_241f', '20221107_174323_63_241f', '20221106_181748_57_2489', '20211007_175410_54_2456', '20211006_184245_27_227a', '20211215_174910_00_2463', '20221101_174219_93_241e', '20221101_174217_59_241e', '20211007_180221_60_225a', '20211101_174955_25_245f', '20211006_184026_85_2406', '20221031_173901_72_2463', '20211108_175218_78_241a', '20211210_175331_34_242d', '20211229_183747_11_2254', '20211229_183744_81_2254', '20211209_183653_67_241c', '20211209_183651_37_241c', '20211209_183649_06_241c', '20211210_174817_17_2447', '20211006_175516_20_2440', '20211209_183639_24_227c', '20220115_174742_82_2460', '20220110_174916_22_241b', '20220110_174911_62_241b', '20220110_174830_42_2453', '20220113_180508_31_2264', '20220110_174940_76_2439', '20220110_174938_46_2439', '20221022_182022_87_2498', '20221022_182020_52_2498', '20220129_174952_78_2421', '20220129_174950_48_2421', '20220131_175048_37_2427', '20220131_175046_07_2427', '20221022_174216_65_2436', '20221022_181712_90_2473', '20221022_181710_54_2473', '20220131_183938_20_2426', '20221022_174214_30_2436', '20220112_180316_95_2251', '20220112_180314_66_2251', '20220131_182140_22_2490', '20220131_182135_58_2490', '20221021_174616_24_241d', '20221021_174613_88_241d', '20221021_174611_53_241d', '20221021_181934_25_249c', '20221021_181931_87_249c', '20221021_181929_48_249c', '20220227_183633_75_2402', '20220227_183631_45_2402', '20221016_174231_22_2435', '20221016_174228_87_2435', '20221016_174658_35_2448', '20221016_174656_02_2448', '20221016_181820_82_2498', '20221016_181818_47_2498', '20221015_174001_75_2451', '20221015_173959_40_2451', '20221015_181727_37_249c', '20221015_181724_99_249c', '20221015_181948_04_2490', '20221015_181945_67_2490', '20221015_181943_31_2490', '20221014_174348_60_241b', '20221014_174346_26_241b', '20221014_174343_92_241b', '20221014_174441_37_2434', '20221014_174439_02_2434', '20221014_181607_87_2499', '20221014_181605_51_2499', '20221013_174024_61_242b', '20221013_174022_26_242b', '20221013_174019_92_242b', '20221013_180532_71_2251', '20221013_180530_46_2251', '20221012_174536_46_2421', '20221012_174534_12_2421', '20221012_180235_28_2262', '20221012_180233_03_2262', '20221012_182048_79_247b', '20221012_182051_16_247b', '20221011_181356_13_2231', '20221011_181827_96_2482', '20221011_182745_17_227a', '20221011_182742_79_227a', '20221011_182740_41_227a', '20221011_181825_61_2482', '20221011_181823_25_2482', '20221011_181543_08_249d']\n"
     ]
    }
   ],
   "source": [
    "item_type = \"PSScene\"\n",
    "\n",
    "# API request object\n",
    "search_request = {\n",
    "  \"item_types\": [item_type], \n",
    "  \"filter\": combined_filter\n",
    "}\n",
    "\n",
    "# fire off the POST request\n",
    "search_result = \\\n",
    "  requests.post(\n",
    "    'https://api.planet.com/data/v1/quick-search',\n",
    "    auth=HTTPBasicAuth(PLANET_API_KEY, ''),\n",
    "    json=search_request)\n",
    "\n",
    "# extract image IDs only\n",
    "image_ids = [feature['id'] for feature in search_result.json()['features']]\n",
    "print(image_ids)"
   ]
  },
  {
   "cell_type": "code",
   "execution_count": 17,
   "metadata": {
    "scrolled": true
   },
   "outputs": [
    {
     "data": {
      "text/plain": [
       "{'field': {'filter.config.0.config.coordinates.0': [{'message': '[[[-119.48747199999998, 34.036778], [-119.56523699999998, 33.962356], [-119.64143599999998, 33.95023499999998], [-119.69936900000002, 33.923388], [-119.84289499999998, 33.914726000000016], [-119.91126500000001, 33.942008], [-119.946755, 33.992219000000006], [-119.949365, 34.02423499999999], [-119.980158, 34.052779000000015], [-119.973895, 34.096874], [-119.92065999999998, 34.12280199999999], [-119.845504, 34.11545600000002], [-119.81993000000001, 34.10508499999999], [-119.75155999999998, 34.102925], [-119.693106, 34.087365999999975], [-119.659181, 34.06358900000001], [-119.598117, 34.094280999999995], [-119.53601, 34.08434000000001], [-119.48747199999998, 34.036778]]] is too short'}],\n",
       "  'filter.config.0.config.coordinates.0.0': [{'message': '[[-119.48747199999998, 34.036778], [-119.56523699999998, 33.962356], [-119.64143599999998, 33.95023499999998], [-119.69936900000002, 33.923388], [-119.84289499999998, 33.914726000000016], [-119.91126500000001, 33.942008], [-119.946755, 33.992219000000006], [-119.949365, 34.02423499999999], [-119.980158, 34.052779000000015], [-119.973895, 34.096874], [-119.92065999999998, 34.12280199999999], [-119.845504, 34.11545600000002], [-119.81993000000001, 34.10508499999999], [-119.75155999999998, 34.102925], [-119.693106, 34.087365999999975], [-119.659181, 34.06358900000001], [-119.598117, 34.094280999999995], [-119.53601, 34.08434000000001], [-119.48747199999998, 34.036778]] is too long'}],\n",
       "  'filter.config.0.config.coordinates.0.0.0': [{'message': \"[-119.48747199999998, 34.036778] is not of type 'number'\"}],\n",
       "  'filter.config.0.config.coordinates.0.0.1': [{'message': \"[-119.56523699999998, 33.962356] is not of type 'number'\"}],\n",
       "  'filter.config.0.config.coordinates.0.0.10': [{'message': \"[-119.92065999999998, 34.12280199999999] is not of type 'number'\"}],\n",
       "  'filter.config.0.config.coordinates.0.0.11': [{'message': \"[-119.845504, 34.11545600000002] is not of type 'number'\"}],\n",
       "  'filter.config.0.config.coordinates.0.0.12': [{'message': \"[-119.81993000000001, 34.10508499999999] is not of type 'number'\"}],\n",
       "  'filter.config.0.config.coordinates.0.0.13': [{'message': \"[-119.75155999999998, 34.102925] is not of type 'number'\"}],\n",
       "  'filter.config.0.config.coordinates.0.0.14': [{'message': \"[-119.693106, 34.087365999999975] is not of type 'number'\"}],\n",
       "  'filter.config.0.config.coordinates.0.0.15': [{'message': \"[-119.659181, 34.06358900000001] is not of type 'number'\"}],\n",
       "  'filter.config.0.config.coordinates.0.0.16': [{'message': \"[-119.598117, 34.094280999999995] is not of type 'number'\"}],\n",
       "  'filter.config.0.config.coordinates.0.0.17': [{'message': \"[-119.53601, 34.08434000000001] is not of type 'number'\"}],\n",
       "  'filter.config.0.config.coordinates.0.0.18': [{'message': \"[-119.48747199999998, 34.036778] is not of type 'number'\"}],\n",
       "  'filter.config.0.config.coordinates.0.0.2': [{'message': \"[-119.64143599999998, 33.95023499999998] is not of type 'number'\"}],\n",
       "  'filter.config.0.config.coordinates.0.0.3': [{'message': \"[-119.69936900000002, 33.923388] is not of type 'number'\"}],\n",
       "  'filter.config.0.config.coordinates.0.0.4': [{'message': \"[-119.84289499999998, 33.914726000000016] is not of type 'number'\"}],\n",
       "  'filter.config.0.config.coordinates.0.0.5': [{'message': \"[-119.91126500000001, 33.942008] is not of type 'number'\"}],\n",
       "  'filter.config.0.config.coordinates.0.0.6': [{'message': \"[-119.946755, 33.992219000000006] is not of type 'number'\"}],\n",
       "  'filter.config.0.config.coordinates.0.0.7': [{'message': \"[-119.949365, 34.02423499999999] is not of type 'number'\"}],\n",
       "  'filter.config.0.config.coordinates.0.0.8': [{'message': \"[-119.980158, 34.052779000000015] is not of type 'number'\"}],\n",
       "  'filter.config.0.config.coordinates.0.0.9': [{'message': \"[-119.973895, 34.096874] is not of type 'number'\"}]},\n",
       " 'general': []}"
      ]
     },
     "execution_count": 17,
     "metadata": {},
     "output_type": "execute_result"
    }
   ],
   "source": [
    "search_result.json()"
   ]
  },
  {
   "cell_type": "markdown",
   "metadata": {},
   "source": [
    "### Requests example\n",
    "\n",
    "In this notebook, we will be using `requests` to communicate with the orders v2 API. First, we will check our orders list to make sure authentication and communication is working as expected.\n",
    "\n",
    "We want to get a response code of `200` from this API call. To troubleshoot other response codes, see the [List Orders](https://developers.planet.com/docs/orders/reference/#operation/listOrders) AOI reference."
   ]
  },
  {
   "cell_type": "code",
   "execution_count": 23,
   "metadata": {},
   "outputs": [
    {
     "data": {
      "text/plain": [
       "<Response [200]>"
      ]
     },
     "execution_count": 23,
     "metadata": {},
     "output_type": "execute_result"
    }
   ],
   "source": [
    "auth = HTTPBasicAuth(PLANET_API_KEY, '')\n",
    "response = requests.get(orders_url, auth=auth)\n",
    "response"
   ]
  },
  {
   "cell_type": "markdown",
   "metadata": {},
   "source": [
    "## Ordering\n",
    "\n",
    "In this example, we will order two `PSScene4Band` analytic images. For variations on this kind of order, see [Ordering Data](https://developers.planet.com/docs/orders/ordering-delivery/#ordering-data_1).\n",
    "\n",
    "In this order, we request an `analytic` bundle. A bundle is a group of assets for an item. The `analytic` bundle for the  `PSScene4Band` item contains 3 assets: the analytic image, the analytic xml file, and the udm. See the [Product bundles reference](https://developers.planet.com/docs/orders/product-bundles-reference/) to learn about other bundles and other items."
   ]
  },
  {
   "cell_type": "markdown",
   "metadata": {},
   "source": [
    "Now we will list the names of orders we have created thus far. Your list may be empty if you have not created an order yet."
   ]
  },
  {
   "cell_type": "code",
   "execution_count": 22,
   "metadata": {},
   "outputs": [
    {
     "ename": "KeyError",
     "evalue": "'orders'",
     "output_type": "error",
     "traceback": [
      "\u001b[1;31m---------------------------------------------------------------------------\u001b[0m",
      "\u001b[1;31mKeyError\u001b[0m                                  Traceback (most recent call last)",
      "\u001b[1;32mC:\\Users\\JJABLO~1\\AppData\\Local\\Temp/ipykernel_13892/641458001.py\u001b[0m in \u001b[0;36m<module>\u001b[1;34m\u001b[0m\n\u001b[1;32m----> 1\u001b[1;33m \u001b[0morders\u001b[0m \u001b[1;33m=\u001b[0m \u001b[0mresponse\u001b[0m\u001b[1;33m.\u001b[0m\u001b[0mjson\u001b[0m\u001b[1;33m(\u001b[0m\u001b[1;33m)\u001b[0m\u001b[1;33m[\u001b[0m\u001b[1;34m'orders'\u001b[0m\u001b[1;33m]\u001b[0m\u001b[1;33m\u001b[0m\u001b[1;33m\u001b[0m\u001b[0m\n\u001b[0m\u001b[0;32m      2\u001b[0m \u001b[1;33m[\u001b[0m\u001b[0mr\u001b[0m\u001b[1;33m[\u001b[0m\u001b[1;34m'name'\u001b[0m\u001b[1;33m]\u001b[0m \u001b[1;32mfor\u001b[0m \u001b[0mr\u001b[0m \u001b[1;32min\u001b[0m \u001b[0morders\u001b[0m\u001b[1;33m]\u001b[0m\u001b[1;33m\u001b[0m\u001b[1;33m\u001b[0m\u001b[0m\n",
      "\u001b[1;31mKeyError\u001b[0m: 'orders'"
     ]
    }
   ],
   "source": [
    "orders = response.json()['orders']\n",
    "[r['name'] for r in orders]"
   ]
  },
  {
   "cell_type": "markdown",
   "metadata": {},
   "source": [
    "### Place Order"
   ]
  },
  {
   "cell_type": "code",
   "execution_count": null,
   "metadata": {},
   "outputs": [],
   "source": [
    "# set content type to json\n",
    "headers = {'content-type': 'application/json'}"
   ]
  },
  {
   "cell_type": "code",
   "execution_count": null,
   "metadata": {},
   "outputs": [],
   "source": [
    "# define products part of order\n",
    "single_product = [\n",
    "    {\n",
    "      \"item_ids\": [\"20220614_180918_90_2438\"],\n",
    "      \"item_type\": \"PSScene\",\n",
    "      \"product_bundle\": \"analytic_8b_sr_udm2\"\n",
    "    }\n",
    "]\n",
    "\n",
    "same_src_products = [\n",
    "    {\n",
    "      \"item_ids\": [\"20151119_025740_0c74\",\n",
    "                   \"20151119_025739_0c74\"],\n",
    "      \"item_type\": \"PSScene4Band\",\n",
    "      \"product_bundle\": \"analytic\"\n",
    "    }\n",
    "]\n",
    "\n",
    "multi_src_products = [\n",
    "    {\n",
    "      \"item_ids\": [\"20151119_025740_0c74\"],\n",
    "      \"item_type\": \"PSScene4Band\",\n",
    "      \"product_bundle\": \"analytic\"\n",
    "    },\n",
    "    {\n",
    "      \"item_ids\": [\"20220628_183020_20_248c\"],\n",
    "      \"item_type\": \"PSScene\",\n",
    "      \"product_bundle\": \"analytic_8b_udm2\"\n",
    "    },\n",
    "    \n",
    "]"
   ]
  },
  {
   "cell_type": "code",
   "execution_count": null,
   "metadata": {},
   "outputs": [],
   "source": [
    "product = [\n",
    "    {\n",
    "      \"item_ids\":[],\n",
    "      \"item_type\":  ,\n",
    "      \"product_bundle\": \n",
    "    }\n",
    "]\n",
    "\n",
    "\n",
    "request = {  \n",
    "   \"name\":\"\",\n",
    "   \"products\": product,\n",
    "    \"delivery\": {\"single_archive\": True, \"archive_type\": \"zip\"}\n",
    "}"
   ]
  },
  {
   "cell_type": "code",
   "execution_count": null,
   "metadata": {},
   "outputs": [],
   "source": [
    "def place_order(request, auth):\n",
    "    response = requests.post(orders_url, data=json.dumps(request), auth=auth, headers=headers)\n",
    "    print(response.json())\n",
    "    order_id = response.json()['id']\n",
    "    print(order_id)\n",
    "    order_url = orders_url + '/' + order_id\n",
    "    return order_url"
   ]
  },
  {
   "cell_type": "code",
   "execution_count": null,
   "metadata": {},
   "outputs": [],
   "source": [
    "order_url = place_order(request, auth)"
   ]
  },
  {
   "cell_type": "markdown",
   "metadata": {},
   "source": [
    "### Poll for Order Success"
   ]
  },
  {
   "cell_type": "code",
   "execution_count": null,
   "metadata": {},
   "outputs": [],
   "source": [
    "def poll_for_success(order_url, auth, num_loops=5):\n",
    "    count = 0\n",
    "    while(count < num_loops):\n",
    "        count += 1\n",
    "        r = requests.get(order_url, auth=auth)\n",
    "        response = r.json()\n",
    "        state = response['state']\n",
    "        print(state)\n",
    "        end_states = ['success', 'failed', 'partial']\n",
    "        if state in end_states:\n",
    "            break\n",
    "        time.sleep(10)\n",
    "        \n",
    "poll_for_success(order_url, auth)"
   ]
  },
  {
   "cell_type": "markdown",
   "metadata": {},
   "source": [
    "## Bandmath and clip\n",
    "Now lets use the toolchain in order to combine a few opperations at once.\n",
    "\n",
    "To create a polygon to clip by lets go to [geojson.io](https://geojson.io)\n"
   ]
  },
  {
   "cell_type": "code",
   "execution_count": null,
   "metadata": {},
   "outputs": [],
   "source": [
    "# define the clip tool\n",
    "clip = {\n",
    "    \"clip\": {\n",
    "        \"aoi\": geometry\n",
    "    }\n",
    "}"
   ]
  },
  {
   "cell_type": "code",
   "execution_count": null,
   "metadata": {},
   "outputs": [],
   "source": [
    "bandmath = {\n",
    "  \"bandmath\": {\n",
    "    \"b1\": ,\n",
    "    \"b2\": ,\n",
    "    \"b3\": ,\n",
    "    \"pixel_type\": \"32R\",\n",
    "  }\n",
    "}"
   ]
  },
  {
   "cell_type": "code",
   "execution_count": null,
   "metadata": {},
   "outputs": [],
   "source": [
    "tool_request = { \n",
    "    \"name\":\"toolchain order\",\n",
    "    \"products\": product,\n",
    "    \"tools\": [clip, bandmath],\n",
    "    \"delivery\": {\"single_archive\": True, \"archive_type\": \"zip\"}\n",
    "}"
   ]
  },
  {
   "cell_type": "code",
   "execution_count": null,
   "metadata": {},
   "outputs": [],
   "source": [
    "tool_order_url = place_order(tool_request, auth)"
   ]
  },
  {
   "cell_type": "markdown",
   "metadata": {},
   "source": [
    "### View Results\n",
    "Now lets review our previous order and download it"
   ]
  },
  {
   "cell_type": "code",
   "execution_count": null,
   "metadata": {},
   "outputs": [],
   "source": [
    "requests.get(order_url, auth=auth).json()['state']"
   ]
  },
  {
   "cell_type": "code",
   "execution_count": null,
   "metadata": {
    "scrolled": false
   },
   "outputs": [],
   "source": [
    "r = requests.get(order_url, auth=auth)\n",
    "response = r.json()\n",
    "results = response['_links']['results']"
   ]
  },
  {
   "cell_type": "code",
   "execution_count": null,
   "metadata": {},
   "outputs": [],
   "source": [
    "[r['name'] for r in results]"
   ]
  },
  {
   "cell_type": "markdown",
   "metadata": {},
   "source": [
    "## Download\n",
    "\n",
    "### Downloading each asset individually"
   ]
  },
  {
   "cell_type": "code",
   "execution_count": null,
   "metadata": {},
   "outputs": [],
   "source": [
    "def download_results(results, overwrite=False):\n",
    "    results_urls = [r['location'] for r in results]\n",
    "    results_names = [r['name'] for r in results]\n",
    "    print('{} items to download'.format(len(results_urls)))\n",
    "    \n",
    "    for url, name in zip(results_urls, results_names):\n",
    "        path = pathlib.Path(os.path.join('data', name))\n",
    "        \n",
    "        if overwrite or not path.exists():\n",
    "            print('downloading {} to {}'.format(name, path))\n",
    "            r = requests.get(url, allow_redirects=True)\n",
    "            path.parent.mkdir(parents=True, exist_ok=True)\n",
    "            open(path, 'wb').write(r.content)\n",
    "        else:\n",
    "            print('{} already exists, skipping {}'.format(path, name))"
   ]
  },
  {
   "cell_type": "code",
   "execution_count": null,
   "metadata": {},
   "outputs": [],
   "source": [
    "download_results(results)"
   ]
  },
  {
   "cell_type": "markdown",
   "metadata": {},
   "source": [
    "## Basemaps"
   ]
  },
  {
   "cell_type": "code",
   "execution_count": null,
   "metadata": {},
   "outputs": [],
   "source": [
    "BASEMAP_API_URL = 'https://api.planet.com/basemaps/v1/mosaics'\n",
    "auth = HTTPBasicAuth(PLANET_API_KEY, '')\n",
    "basemapServiceResponse = requests.get(url=BASEMAP_API_URL, auth=auth)"
   ]
  },
  {
   "cell_type": "code",
   "execution_count": null,
   "metadata": {},
   "outputs": [],
   "source": [
    "basemaps = basemapServiceResponse.raise_for_status()\n",
    "if basemapServiceResponse.status_code != 204:\n",
    "    basemaps = json.loads(basemapServiceResponse.text)\n",
    "mosaics = basemaps['mosaics']\n",
    "names = [feature['name'] for feature in mosaics]\n",
    "print(names)"
   ]
  },
  {
   "cell_type": "code",
   "execution_count": null,
   "metadata": {},
   "outputs": [],
   "source": [
    "# set content type to json\n",
    "headers = {'content-type': 'application/json'}"
   ]
  },
  {
   "cell_type": "code",
   "execution_count": null,
   "metadata": {},
   "outputs": [],
   "source": [
    "order_params = {\n",
    "   \"name\": \"Basemap order with geometry\",\n",
    "   \"source_type\": \"basemaps\",\n",
    "   \"products\": [\n",
    "      {\n",
    "         \"mosaic_name\": \"\",\n",
    "         \"geometry\":geometry\n",
    "      }\n",
    "   ],\n",
    "    \"tools\": [clip],\n",
    "}"
   ]
  },
  {
   "cell_type": "code",
   "execution_count": null,
   "metadata": {},
   "outputs": [],
   "source": [
    "basemap_url = place_order(order_params, auth)"
   ]
  }
 ],
 "metadata": {
  "kernelspec": {
   "display_name": "Python 3 (ipykernel)",
   "language": "python",
   "name": "python3"
  },
  "language_info": {
   "codemirror_mode": {
    "name": "ipython",
    "version": 3
   },
   "file_extension": ".py",
   "mimetype": "text/x-python",
   "name": "python",
   "nbconvert_exporter": "python",
   "pygments_lexer": "ipython3",
   "version": "3.9.7"
  }
 },
 "nbformat": 4,
 "nbformat_minor": 2
}
